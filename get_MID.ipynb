{
 "cells": [
  {
   "cell_type": "code",
   "execution_count": 1,
   "metadata": {},
   "outputs": [],
   "source": [
    "### This python code calculates mass isotopologue distribution (MID) from raw mass spectrometry data\n",
    "# Written by Xin Guan (github.com/x-guan)\n",
    "\n",
    "# basics\n",
    "import numpy as np\n",
    "import pandas as pd\n",
    "import datetime"
   ]
  },
  {
   "cell_type": "code",
   "execution_count": 2,
   "metadata": {},
   "outputs": [
    {
     "name": "stdout",
     "output_type": "stream",
     "text": [
      "<rdkit.Chem.rdchem.Mol object at 0x1141c5df0>\n",
      "m/z (mono isotope):  398.13649162008994\n",
      "charge:  1\n"
     ]
    }
   ],
   "source": [
    "### determine monoisotopic m/z and charge from structure\n",
    "# function - get_monoisotopic_mz_and_z\n",
    "\n",
    "# for parsing ion structures\n",
    "from rdkit import Chem\n",
    "from rdkit.Chem import rdMolDescriptors\n",
    "from rdkit.Chem import rdmolops\n",
    "# input: acutumine.sdf\n",
    "# return: monoiso_mz, charge\n",
    "\n",
    "# input structure from a sdf file\n",
    "structure = \"acutumine.sdf\"\n",
    "mol = Chem.SDMolSupplier(structure)[0]\n",
    "print(mol)\n",
    "\n",
    "# determine properties of mol\n",
    "monoiso_mz = rdMolDescriptors.CalcExactMolWt(mol)\n",
    "print(\"m/z (mono isotope): \", monoiso_mz)\n",
    "charge = rdmolops.GetFormalCharge(mol)\n",
    "print(\"charge: \", charge)   # charge have to be +1"
   ]
  },
  {
   "cell_type": "code",
   "execution_count": 3,
   "metadata": {},
   "outputs": [
    {
     "name": "stdout",
     "output_type": "stream",
     "text": [
      "m/z window: \n",
      " [[398.09667797 398.17630527]\n",
      " [399.09993247 399.18268264]\n",
      " [400.10318698 400.18906002]\n",
      " [401.10644148 401.19543739]\n",
      " [402.10969598 402.20181476]\n",
      " [403.11295048 403.20819214]]\n"
     ]
    }
   ],
   "source": [
    "### determine mz_windows from monoiso_mz\n",
    "# function - calc_mz_windows\n",
    "\n",
    "# input\n",
    "C13_NEUTRON = 13.0033548378 - 12\n",
    "H2_NEUTRON = 2.01410177811 - 1.00782503224\n",
    "span = max_neutrons = 5\n",
    "ppm=100\n",
    "# return: mz_windows\n",
    "\n",
    "# initialize output matrix\n",
    "mz_windows = np.zeros(shape=(span+1, 2), dtype='float')\n",
    "row_idxs = range(span+1)\n",
    "\n",
    "# calc ppm factor\n",
    "low_ppm = 1-ppm/1e6\n",
    "high_ppm = 1+ppm/1e6\n",
    "\n",
    "# loop through rows\n",
    "for m in row_idxs:\n",
    "    mz_m = np.array((monoiso_mz + m*C13_NEUTRON, monoiso_mz + m*H2_NEUTRON))   # double brakets\n",
    "    mz_windows[m, :] = np.min(mz_m * low_ppm), np.max(mz_m * high_ppm)\n",
    "print(\"m/z window: \\n\", mz_windows)"
   ]
  },
  {
   "cell_type": "code",
   "execution_count": 4,
   "metadata": {},
   "outputs": [
    {
     "name": "stdout",
     "output_type": "stream",
     "text": [
      "m/z window is from 5 to 5.5 min\n",
      "mean m/z:  [398.13487126 399.1388297  400.13299635 401.1366636  402.13899632\n",
      " 403.14255773]\n",
      "intensity:  [1.77147347e+08 4.14338471e+07 6.41503511e+07 1.45282674e+07\n",
      " 2.35509175e+06 3.96237917e+05]\n"
     ]
    }
   ],
   "source": [
    "### calculate MID raw data\n",
    "# function - extract_mid_from_file\n",
    "\n",
    "# read mzml files\n",
    "from pyteomics import mzml\n",
    "# input\n",
    "rt_window = (5, 5.5)   # from 5 to 5.5 min\n",
    "mzml_file = \"mca_1_l_d2o.mzML\"\n",
    "# return: mean_mz, total_i\n",
    "\n",
    "with mzml.read(mzml_file) as reader:\n",
    "    # identify rt window\n",
    "    rt_min, rt_max = tuple(rt_window)\n",
    "    print(\"m/z window is from\", rt_min, \"to\", rt_max, \"min\")\n",
    "    \n",
    "    # initialize output matrix of mean mz and intensities\n",
    "    n_rows = mz_windows.shape[0]\n",
    "    m_span = range(n_rows)\n",
    "    \n",
    "    # initialize lists to store relevant raw data points\n",
    "    mzs = [[] for m in m_span]\n",
    "    intensities = [[] for m in m_span]\n",
    "    \n",
    "    # loop through scans, keeping data points in mz_windows and rt_window only\n",
    "    for spec in reader:\n",
    "        rt = spec['scanList']['scan'][0]['scan start time']\n",
    "        if rt >= rt_min and rt <= rt_max:\n",
    "                # get raw scan data\n",
    "                these_mzs = spec['m/z array']\n",
    "                these_intensities = spec['intensity array']\n",
    "                \n",
    "                # index into mz_windows to find relevant data in scan\n",
    "                index_mat = np.searchsorted(these_mzs, mz_windows)\n",
    "                start = index_mat[:, 0]\n",
    "                stop = index_mat[:, 1]\n",
    "                \n",
    "                for m in m_span:\n",
    "                    # if scan has no mz values of interest, skip it\n",
    "                    if start[m] != stop[m]:\n",
    "                        mzs[m].extend(list(these_mzs[start[m]:stop[m]]))\n",
    "                        intensities[m].extend(list(these_intensities[start[m]:stop[m]]))\n",
    "    mean_mz = np.asarray([np.average(mzs[m], weights=intensities[m]) for m in m_span])\n",
    "    print(\"mean m/z: \", mean_mz)\n",
    "    total_i = np.asarray([np.sum(intensities[m]) for m in m_span])\n",
    "    print(\"intensity: \", total_i)"
   ]
  },
  {
   "cell_type": "code",
   "execution_count": 5,
   "metadata": {},
   "outputs": [
    {
     "name": "stdout",
     "output_type": "stream",
     "text": [
      "   m         mzml_file      structure              analysis_date  C13_theo_mz  \\\n",
      "0  0  mca_1_l_d2o.mzML  acutumine.sdf 2019-01-09 13:50:18.813122   398.136492   \n",
      "1  1  mca_1_l_d2o.mzML  acutumine.sdf 2019-01-09 13:50:18.813122   399.139846   \n",
      "2  2  mca_1_l_d2o.mzML  acutumine.sdf 2019-01-09 13:50:18.813122   400.143201   \n",
      "3  3  mca_1_l_d2o.mzML  acutumine.sdf 2019-01-09 13:50:18.813122   401.146556   \n",
      "4  4  mca_1_l_d2o.mzML  acutumine.sdf 2019-01-09 13:50:18.813122   402.149911   \n",
      "5  5  mca_1_l_d2o.mzML  acutumine.sdf 2019-01-09 13:50:18.813122   403.153266   \n",
      "\n",
      "   H2_theo_mz     mean_mz  raw_intensity       mid  \n",
      "0  398.136492  398.134871   1.771473e+08  0.590469  \n",
      "1  399.142768  399.138830   4.143385e+07  0.138108  \n",
      "2  400.149045  400.132996   6.415035e+07  0.213827  \n",
      "3  401.155322  401.136664   1.452827e+07  0.048426  \n",
      "4  402.161599  402.138996   2.355092e+06  0.007850  \n",
      "5  403.167875  403.142558   3.962379e+05  0.001321  \n"
     ]
    }
   ],
   "source": [
    "### preprare output\n",
    "today = datetime.datetime.today()\n",
    "m = np.arange(max_neutrons + 1)\n",
    "C13_theo_mz = monoiso_mz + m*C13_NEUTRON\n",
    "H2_theo_mz = monoiso_mz + m*H2_NEUTRON\n",
    "\n",
    "out_df = pd.DataFrame({'m': m,\n",
    "                       'mzml_file': mzml_file,\n",
    "                       'structure': structure,\n",
    "                       'analysis_date': today,\n",
    "                       'C13_theo_mz': C13_theo_mz,\n",
    "                       'H2_theo_mz': H2_theo_mz,\n",
    "                       'mean_mz': mean_mz,\n",
    "                       'raw_intensity': total_i,\n",
    "                       'mid': total_i / total_i.sum()\n",
    "                      })\n",
    "print(out_df)\n",
    "# out_df.to_csv(\"acutumine.csv\")"
   ]
  },
  {
   "cell_type": "code",
   "execution_count": null,
   "metadata": {},
   "outputs": [],
   "source": []
  }
 ],
 "metadata": {
  "kernelspec": {
   "display_name": "Python 3",
   "language": "python",
   "name": "python3"
  },
  "language_info": {
   "codemirror_mode": {
    "name": "ipython",
    "version": 3
   },
   "file_extension": ".py",
   "mimetype": "text/x-python",
   "name": "python",
   "nbconvert_exporter": "python",
   "pygments_lexer": "ipython3",
   "version": "3.6.4"
  }
 },
 "nbformat": 4,
 "nbformat_minor": 2
}
